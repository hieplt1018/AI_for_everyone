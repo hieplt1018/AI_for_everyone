{
 "cells": [
  {
   "cell_type": "code",
   "execution_count": null,
   "metadata": {},
   "outputs": [],
   "source": [
    "import random \n",
    "import matplotlib.pyplot as plt\n",
    "\n",
    "# Tìm min hàm sphere: f(x) = a*price + b\n",
    "n = 6 #số lượng cá thể (chromosome)\n",
    "m = 50 #số lượng quần thể (population)\n",
    "n_generations = 100 #số lượng thế hệ tiến hóa\n",
    "\n",
    "losses = [] # dùng để vẽ biểu đồ quá trình tối ưu\n",
    "\n",
    "def load_data():\n",
    "    file = open('W4/data.csv', 'r')\n",
    "    lines = file.readlines()\n",
    "    \n",
    "    areas = []\n",
    "    prices = []\n",
    "    for i in range(10):\n",
    "        string = lines[i].split(',')\n",
    "        areas.append(float(string[0]))\n",
    "        prices.append(float(string[1]))\n",
    "        \n",
    "    file.close()\n",
    "    return areas, prices\n",
    "\n",
    "print (areas)\n"
   ]
  },
  {
   "cell_type": "code",
   "execution_count": null,
   "metadata": {},
   "outputs": [],
   "source": [
    "\n",
    "def generate_random_value(bound = 20): \n",
    "    return (random.random()*2 - 1)* bound\n",
    "\n",
    "def create_individual():\n",
    "    return [generate_random_value() for _ in range(n)]\n",
    "\n",
    "def compute_loss(individual):\n",
    "    return sum(gen*gen for gen in individual)\n",
    "\n",
    "def compute_fitness(individual):\n",
    "    loss = compute_loss(individual)\n",
    "    fitness = 1/(loss+1)\n",
    "    return fitness\n",
    "\n",
    "population = [create_individual() for _ in range(m)]\n",
    "\n",
    "for ind in population:\n",
    "    print(ind)"
   ]
  }
 ],
 "metadata": {
  "kernelspec": {
   "display_name": "Python 3",
   "language": "python",
   "name": "python3"
  },
  "language_info": {
   "codemirror_mode": {
    "name": "ipython",
    "version": 3
   },
   "file_extension": ".py",
   "mimetype": "text/x-python",
   "name": "python",
   "nbconvert_exporter": "python",
   "pygments_lexer": "ipython3",
   "version": "3.7.3"
  }
 },
 "nbformat": 4,
 "nbformat_minor": 2
}
