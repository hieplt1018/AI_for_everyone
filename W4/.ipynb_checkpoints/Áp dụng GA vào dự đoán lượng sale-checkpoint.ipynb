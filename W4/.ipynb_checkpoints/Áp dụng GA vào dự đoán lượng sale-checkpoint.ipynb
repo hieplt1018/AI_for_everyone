{
 "cells": [
  {
   "cell_type": "markdown",
   "metadata": {},
   "source": [
    "# Mô tả data"
   ]
  },
  {
   "cell_type": "markdown",
   "metadata": {},
   "source": [
    "Bộ dữ liệu này bao gồm 200 mẫu, và mỗi mẫu gồm 3 đặc trưng gồm số tiền quảng cáo trên TV, trên radio, \n",
    "và trên newspaper. Giá trị sale (thực) được cung cấp cho mỗi mẫu. Hình sau hiển thị minh họa một số mẫu \n",
    "từ bộ dữ liệu advertising."
   ]
  },
  {
   "cell_type": "markdown",
   "metadata": {},
   "source": [
    "ảnh"
   ]
  },
  {
   "cell_type": "code",
   "execution_count": 1,
   "metadata": {},
   "outputs": [],
   "source": [
    "n = 4 #số lượng cá thể (chromosome), 3 feature ứng với c1, c2, c3 và 1 bias ứng với c4 \n",
    "m = 200 #số lượng quần thể (population)\n",
    "n_generations = 2000 #số lượng thế hệ tiến hóa"
   ]
  },
  {
   "cell_type": "code",
   "execution_count": 2,
   "metadata": {},
   "outputs": [
    {
     "name": "stdout",
     "output_type": "stream",
     "text": [
      "[230.1, 37.8, 69.2, 1.0]\n",
      "22.1\n",
      "200\n"
     ]
    }
   ],
   "source": [
    "import random \n",
    "import matplotlib.pyplot as plt\n",
    "import os\n",
    "\n",
    "losses = [] # dùng để vẽ biểu đồ quá trình tối ưu\n",
    "\n",
    "def load_data():\n",
    "    file = open('../data/advertising.csv', 'r')\n",
    "    lines = file.readlines()\n",
    "    \n",
    "    features = []\n",
    "    prices = []\n",
    "    \n",
    "    for i in range(1,201): \n",
    "        #Đọc từng dòng và gán vào mảng\n",
    "        strings = lines[i].split(',') \n",
    "        #Lược bỏ khoảng trắng và chuyển về dạng float\n",
    "        feature = [float(s.strip()) for s in strings[:len(strings)-1]] \n",
    "        #Thêm giá trị 1.0 vào mỗi mẫu feature để số lượng đặc trưng bằng số lượng tham số\n",
    "        feature.append(1.0)\n",
    "        features.append(feature)\n",
    "        prices.append(float(strings[-1]))\n",
    "        \n",
    "    file.close()\n",
    "    return features, prices\n",
    "\n",
    "features, prices = load_data()\n",
    "print(features[0])\n",
    "print(prices[0])\n",
    "print(len(features))"
   ]
  },
  {
   "cell_type": "code",
   "execution_count": 3,
   "metadata": {},
   "outputs": [
    {
     "name": "stdout",
     "output_type": "stream",
     "text": [
      "12.978975041477359\n"
     ]
    }
   ],
   "source": [
    "def generate_random_value(bound = 100): \n",
    "    return (random.random())*bound\n",
    "\n",
    "print(generate_random_value())\n",
    "\n",
    "def create_individual():\n",
    "    return [generate_random_value() for _ in range(n)]\n"
   ]
  },
  {
   "cell_type": "markdown",
   "metadata": {},
   "source": [
    "Ta tính loss cho một dự đoán bằng cách so sánh giá trị doanh thu(sales) ước lượng (tính dựa theo phương trình 1) với giá trị doanh thu thực tế.\n",
    "Losses là tổng các loss của tất cả các dự đoán loss\n"
   ]
  },
  {
   "cell_type": "code",
   "execution_count": 4,
   "metadata": {},
   "outputs": [],
   "source": [
    "def compute_loss(individual):\n",
    "    estimated_prices = []\n",
    "    for feature in features:\n",
    "        estimated_price = sum(c*x for x, c in zip(feature, individual))\n",
    "        estimated_prices.append(estimated_price)\n",
    "    losses= [abs(y_est-y_gt) for y_est, y_gt in zip(estimated_prices, prices)]\n",
    "    return sum(losses)\n"
   ]
  },
  {
   "cell_type": "code",
   "execution_count": 5,
   "metadata": {},
   "outputs": [],
   "source": [
    "def compute_fitness(individual):\n",
    "    loss = compute_loss(individual)\n",
    "    fitness = 1/(loss+1)\n",
    "    return fitness"
   ]
  },
  {
   "cell_type": "code",
   "execution_count": 6,
   "metadata": {},
   "outputs": [],
   "source": [
    "def crossover(individual1, individual2, crossover_rate = 0.9):\n",
    "    individual1_new = individual1.copy()\n",
    "    individual2_new = individual2.copy()\n",
    "    \n",
    "    for i in range(n):\n",
    "        if random.random() < crossover_rate:\n",
    "            individual1_new[i] = individual2[i]\n",
    "            individual2_new[i] = individual1[i]            \n",
    "    \n",
    "    return individual1_new, individual2_new"
   ]
  },
  {
   "cell_type": "code",
   "execution_count": 7,
   "metadata": {},
   "outputs": [],
   "source": [
    "def mutate(individual, mutation_rate = 0.05):\n",
    "    individual_m = individual.copy()\n",
    "    \n",
    "    for i in range(n):\n",
    "        if random.random() < mutation_rate:\n",
    "            individual_m[i] = generate_random_value()\n",
    "        \n",
    "    return individual_m"
   ]
  },
  {
   "cell_type": "code",
   "execution_count": 8,
   "metadata": {},
   "outputs": [],
   "source": [
    "def selection(sorted_old_population):    \n",
    "    index1 = random.randint(0, m-1)    \n",
    "    while True:\n",
    "        index2 = random.randint(0, m-1)    \n",
    "        if (index2 != index1):\n",
    "            break\n",
    "            \n",
    "    individual_s = sorted_old_population[index1]\n",
    "    if index2 > index1:\n",
    "        individual_s = sorted_old_population[index2]\n",
    "    \n",
    "    return individual_s "
   ]
  },
  {
   "cell_type": "code",
   "execution_count": 9,
   "metadata": {},
   "outputs": [],
   "source": [
    "def create_new_population(old_population, elitism=2, gen=1):\n",
    "    sorted_population = sorted(old_population, key=compute_fitness)\n",
    "        \n",
    "    if gen%1 == 0:\n",
    "        losses.append(compute_loss(sorted_population[m-1]))\n",
    "        #print(\"Best loss:\", compute_loss(sorted_population[m-1]))\n",
    "    \n",
    "    new_population = []\n",
    "    while len(new_population) < m-elitism:\n",
    "        # selection\n",
    "        individual_s1 = selection(sorted_population)\n",
    "        individual_s2 = selection(sorted_population) # duplication\n",
    "        \n",
    "        # crossover\n",
    "        individual_c1, individual_c2 = crossover(individual_s1, individual_s2)\n",
    "        \n",
    "        # mutation\n",
    "        individual_m1 = mutate(individual_c1)\n",
    "        individual_m2 = mutate(individual_c2)\n",
    "        \n",
    "        new_population.append(individual_m1)\n",
    "        new_population.append(individual_m2)            \n",
    "    \n",
    "    for ind in sorted_population[m-elitism:]:\n",
    "        new_population.append(ind.copy())\n",
    "    \n",
    "    return new_population\n",
    "\n",
    "population = [create_individual() for _ in range(m)]"
   ]
  },
  {
   "cell_type": "code",
   "execution_count": 13,
   "metadata": {},
   "outputs": [
    {
     "name": "stdout",
     "output_type": "stream",
     "text": [
      "Lựa chọn tốt nhất: \n",
      "[0.036721216534629786, 0.13516364832635297, 0.004749869361553305, 6.2872444576668185]\n"
     ]
    }
   ],
   "source": [
    "for i in range(n_generations):\n",
    "    population = create_new_population(population, 2, i)\n",
    "    if(i == n_generations-1):\n",
    "        print(\"Lựa chọn tốt nhất: \")\n",
    "        print(population[m-1])"
   ]
  },
  {
   "cell_type": "code",
   "execution_count": 14,
   "metadata": {},
   "outputs": [
    {
     "data": {
      "image/png": "[encoded data removed]",
      "text/plain": [
       "<Figure size 432x288 with 1 Axes>"
      ]
     },
     "metadata": {
      "needs_background": "light"
     },
     "output_type": "display_data"
    }
   ],
   "source": [
    "import matplotlib.pyplot as plt\n",
    "\n",
    "plt.plot(losses[:200], c='green')\n",
    "plt.xlabel('Generations')\n",
    "plt.ylabel('losses')\n",
    "plt.show()"
   ]
  },
  {
   "cell_type": "code",
   "execution_count": null,
   "metadata": {},
   "outputs": [],
   "source": []
  }
 ],
 "metadata": {
  "kernelspec": {
   "display_name": "Python 3",
   "language": "python",
   "name": "python3"
  },
  "language_info": {
   "codemirror_mode": {
    "name": "ipython",
    "version": 3
   },
   "file_extension": ".py",
   "mimetype": "text/x-python",
   "name": "python",
   "nbconvert_exporter": "python",
   "pygments_lexer": "ipython3",
   "version": "3.7.3"
  }
 },
 "nbformat": 4,
 "nbformat_minor": 2
}
