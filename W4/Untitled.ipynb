{
 "cells": [
  {
   "cell_type": "markdown",
   "metadata": {},
   "source": [
    "## Mô tả data"
   ]
  },
  {
   "cell_type": "markdown",
   "metadata": {},
   "source": [
    "Bộ dữ liệu Boston có 334 mẫu, và mỗi mẫu gồm 14 đặc trưng, trong đó cột cối cùng medv chứa giá trị giá nhà (thực). Các cột được trình bày trong bảng sau."
   ]
  },
  {
   "cell_type": "markdown",
   "metadata": {},
   "source": [
    "Bài toán yêu cầu dựa vào dữ liệu trên để viết chương trình tiên đoán giá nhà."
   ]
  },
  {
   "cell_type": "code",
   "execution_count": null,
   "metadata": {},
   "outputs": [],
   "source": [
    "n = 14 #size of individual (chromosome): 13 coefficients and 1 bias(medv)\n",
    "m = 505\n",
    "n_generations = 4000"
   ]
  },
  {
   "cell_type": "code",
   "execution_count": 16,
   "metadata": {},
   "outputs": [
    {
     "name": "stdout",
     "output_type": "stream",
     "text": [
      "[1.0, 0.00632, 18.0, 2.31, 0.0, 0.538, 6.575, 65.2, 4.09, 1.0, 296.0, 15.3, 396.9, 4.98, 1.0]\n",
      "24.0\n",
      "333\n"
     ]
    }
   ],
   "source": [
    "import random\n",
    "import os\n",
    "\n",
    "losses = []\n",
    "\n",
    "def load_data():\n",
    "    file = open('../data/Boston_Dataset.csv', 'r')\n",
    "    lines = file.readlines()\n",
    "    \n",
    "    features = []\n",
    "    prices = []\n",
    "    \n",
    "    for i in range(1,334):\n",
    "        strings = lines[i].split(',')\n",
    "        feature = [float(s.strip()) for s in strings[:len(strings)-1]]\n",
    "        feature.append(1.0)\n",
    "        features.append(feature)\n",
    "        prices.append(float(strings[-1]))\n",
    "\n",
    "    file.close()\n",
    "    return features, prices\n",
    "\n",
    "features, prices = load_data()\n",
    "print(features[0])\n",
    "print(prices[0])\n",
    "print(len(features))"
   ]
  },
  {
   "cell_type": "code",
   "execution_count": 18,
   "metadata": {},
   "outputs": [],
   "source": [
    "def generate_random_value(bound = 100):\n",
    "    return (random.random())*bound\n",
    "\n",
    "def create_individual():\n",
    "    return [generate_random_value() for _ in range(n)]"
   ]
  },
  {
   "cell_type": "code",
   "execution_count": 19,
   "metadata": {},
   "outputs": [],
   "source": [
    "def compute_loss(indidual):\n",
    "    estimated_prices = []\n",
    "    for feature in features:\n",
    "        estimated_price = sum(c*x for x, c in zip(feature, individual))\n",
    "        estimated_prices.append(estiamted_price)\n",
    "        \n",
    "    losses = [abs(y_est-y_gt) for y_est, y_gt in zip(estimated_prices, prices)]\n",
    "    return sum(losses)\n",
    "\n",
    "def compute_fitness(individual):\n",
    "    loss = compute_loss(individual)\n",
    "    fitness = 1 / (loss + 1)\n",
    "    return fitness"
   ]
  },
  {
   "cell_type": "code",
   "execution_count": null,
   "metadata": {},
   "outputs": [],
   "source": []
  }
 ],
 "metadata": {
  "kernelspec": {
   "display_name": "Python 3",
   "language": "python",
   "name": "python3"
  },
  "language_info": {
   "codemirror_mode": {
    "name": "ipython",
    "version": 3
   },
   "file_extension": ".py",
   "mimetype": "text/x-python",
   "name": "python",
   "nbconvert_exporter": "python",
   "pygments_lexer": "ipython3",
   "version": "3.7.3"
  }
 },
 "nbformat": 4,
 "nbformat_minor": 2
}
