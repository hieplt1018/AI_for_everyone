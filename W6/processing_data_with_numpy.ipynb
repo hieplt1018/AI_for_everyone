{
 "cells": [
  {
   "cell_type": "markdown",
   "metadata": {},
   "source": [
    "# Đọc và xử lý dữ liệu với numpy "
   ]
  },
  {
   "cell_type": "markdown",
   "metadata": {},
   "source": [
    "## 1. Dữ liệu dạng text"
   ]
  },
  {
   "cell_type": "markdown",
   "metadata": {},
   "source": [
    "Dữ liệu dạng text thường được lưu trong file .csv. Mỗi mẫu dữ liệu được lưu thành một dòng và các trường dữ liệu cách nhau bằng dấu phẩy."
   ]
  },
  {
   "cell_type": "markdown",
   "metadata": {},
   "source": [
    "**Ví dụ 1:** Chúng ta cần đọc bộ dữ liệu giá nhà [Boston](https://www.dropbox.com/s/ibwzn974mb1in52/Boston.csv?dl=0), được lưu trong file Boston.csv. File Boston.csv có 334 dòng, trong đó dòng đầu tiên chứa thông tin các trường dữ liệu (header). Bộ dữ liệu có trường dữ liệu, trong đó trường dữ liệu cuối cùng medv là thông tin giá nhà thực. Các trường dữ liệu cách nhau bằng dấu phẩy."
   ]
  },
  {
   "cell_type": "markdown",
   "metadata": {},
   "source": [
    "<img src=\"https://www.dropbox.com/s/eeokimsvad66c3d/boston.png?raw=1\">"
   ]
  },
  {
   "cell_type": "markdown",
   "metadata": {},
   "source": [
    "Nhiệm vụ của bước xử lý data là đọc dữ liệu và lưu thành 2 biến: biến X chứa các trường dữ liệu đặc trưng và biến y chứa thông tin giá nhà. Do file chứa thông tin header, nên khi đọc file dùng numpy, chúng ta cần chú ý bỏ qua dòng đầu tiên. Code đọc file Boston.csv như sau"
   ]
  },
  {
   "cell_type": "code",
   "execution_count": 9,
   "metadata": {},
   "outputs": [
    {
     "name": "stdout",
     "output_type": "stream",
     "text": [
      "(333, 15)\n",
      "(333, 14)\n",
      "(333,)\n"
     ]
    }
   ],
   "source": [
    "import numpy as np\n",
    "data = np.genfromtxt('../data/Boston_Dataset.csv', dtype='float', delimiter=',', skip_header=1) \n",
    "print(data.shape)\n",
    "X = data[:,:-1]\n",
    "y = data[:,-1]\n",
    "print(X.shape)\n",
    "print(y.shape)"
   ]
  },
  {
   "cell_type": "markdown",
   "metadata": {},
   "source": [
    "Chúng ta dùng skip_header=1 để bỏ dòng đầu tiên, và chọn dtype='float' vì nội dung file (đã bỏ header) chỉ chứa số. Sau khi đọc nội dung file và lưu vào biến data, tách các dữ liệu đặc trưng và dữ liệu giá nhà dựa vào kỹ thuật slicing trong numpy."
   ]
  },
  {
   "cell_type": "markdown",
   "metadata": {},
   "source": [
    "**Ví dụ 2:** Chúng ta cần đọc và xứ lý dữ liệu hoa [Iris](https://www.dropbox.com/s/xzol2tbckx16o8g/IRIS.csv?dl=0) có nội dung như sau"
   ]
  },
  {
   "cell_type": "markdown",
   "metadata": {},
   "source": [
    "<img src=\"https://www.dropbox.com/s/2xy3bezl8yc6lbf/iris.png?raw=1\">"
   ]
  },
  {
   "cell_type": "markdown",
   "metadata": {},
   "source": [
    "Dữ liệu hoa Iris có 150 mẫu và được lưu vào file IRIS.csv, trong đó có 4 trường dữ liệu đặc trưng và 1 trường dữ liệu phân loại hoa (species). Ở đây, các dữ liệu species ở dạng chuỗi. Do đó, khi xử lý bộ dữ liệu này, chúng ta cần đổi các chuỗi này qua dạng số. Code mẫu đọc và xử lý file IRIS.csv như sau"
   ]
  },
  {
   "cell_type": "code",
   "execution_count": 17,
   "metadata": {},
   "outputs": [
    {
     "name": "stdout",
     "output_type": "stream",
     "text": [
      "(150, 4)\n"
     ]
    }
   ],
   "source": [
    "import numpy as np\n",
    "import numpy.core.defchararray as np_f\n",
    "# lấy các đặc trưng và lưu vào biến X\n",
    "X = np.genfromtxt('../data/IRIS.csv', delimiter=',', dtype='float', usecols=[0,1,2,3], skip_header=1)\n",
    "print(X.shape)\n",
    "# lấy species và lưu vào biến y\n",
    "y = np.genfromtxt('../data/IRIS.csv', delimiter=',', dtype='str', usecols=4, skip_header=1)\n",
    "# thay chuỗi bằng số\n",
    "categories = np.unique(y)\n",
    "for i in range(categories.size):\n",
    "    y = np_f.replace(y, categories[i], str(i))    \n",
    "# đưa về kiểu float    \n",
    "y = y.astype('float')\n"
   ]
  },
  {
   "cell_type": "markdown",
   "metadata": {},
   "source": [
    "Ở đây, chúng ta sử dụng hàm np.unique() để lấy các loại chuỗi duy nhất trong một mảng numpy chứa các chuỗi khác nhau; và dùng hàm np_f.replace() để thay giá trị kiểu chuỗi.\n",
    "\n",
    "Kết quả hiển thị cho đoạn code trên như sau"
   ]
  },
  {
   "cell_type": "code",
   "execution_count": 19,
   "metadata": {},
   "outputs": [
    {
     "name": "stdout",
     "output_type": "stream",
     "text": [
      "[0. 0. 0. 0. 0. 0. 0. 0. 0. 0. 0. 0. 0. 0. 0. 0. 0. 0. 0. 0. 0. 0. 0. 0.\n",
      " 0. 0. 0. 0. 0. 0. 0. 0. 0. 0. 0. 0. 0. 0. 0. 0. 0. 0. 0. 0. 0. 0. 0. 0.\n",
      " 0. 0. 1. 1. 1. 1. 1. 1. 1. 1. 1. 1. 1. 1. 1. 1. 1. 1. 1. 1. 1. 1. 1. 1.\n",
      " 1. 1. 1. 1. 1. 1. 1. 1. 1. 1. 1. 1. 1. 1. 1. 1. 1. 1. 1. 1. 1. 1. 1. 1.\n",
      " 1. 1. 1. 1. 2. 2. 2. 2. 2. 2. 2. 2. 2. 2. 2. 2. 2. 2. 2. 2. 2. 2. 2. 2.\n",
      " 2. 2. 2. 2. 2. 2. 2. 2. 2. 2. 2. 2. 2. 2. 2. 2. 2. 2. 2. 2. 2. 2. 2. 2.\n",
      " 2. 2. 2. 2. 2. 2.]\n"
     ]
    }
   ],
   "source": [
    "print(y)"
   ]
  },
  {
   "cell_type": "markdown",
   "metadata": {},
   "source": [
    "## 2. Dữ liệu ảnh dạng binary: Fashion-MNIST dataset"
   ]
  },
  {
   "cell_type": "markdown",
   "metadata": {},
   "source": [
    "Fashion-MNIST là bộ dữ liệu hình ảnh, bao gồm dữ liệu để training (60.000 mẫu) và dữ liệu cho testing (10.000 mẫu). Mỗi mẫu là một hình ảnh kích thước 28x28, ánh xạ cho một nhãn gồm 10 loại. Bộ dữ liệu Fashion-MNIST được tạo ra nhằm thay thế cho bộ dữ liệu MNIST đã trở nên đơn giản cho những mô hình hiện tại.\n",
    "\n",
    "Hình bên dưới minh họa một vài ảnh mẫu từ bộ dữ liệu Fashion-MNIST.\n",
    "\n"
   ]
  },
  {
   "cell_type": "markdown",
   "metadata": {},
   "source": [
    "<img src=\"https://www.dropbox.com/s/pkmy05n5ljod2cq/MNIST.png?raw=1\" style=\"width:200px, height:200px\">"
   ]
  },
  {
   "cell_type": "markdown",
   "metadata": {},
   "source": [
    "Code để download dataset như sau"
   ]
  },
  {
   "cell_type": "code",
   "execution_count": 21,
   "metadata": {},
   "outputs": [
    {
     "name": "stdout",
     "output_type": "stream",
     "text": [
      "Downloading train-images-idx3-ubyte.gz...\n",
      "Downloading train-labels-idx1-ubyte.gz...\n",
      "Downloading t10k-images-idx3-ubyte.gz...\n",
      "Downloading t10k-labels-idx1-ubyte.gz...\n",
      "Download complete.\n"
     ]
    }
   ],
   "source": [
    "import numpy as np\n",
    "from urllib import request\n",
    "import gzip\n",
    "import pickle\n",
    "filename = [\n",
    "            [\"training_images\",\"train-images-idx3-ubyte.gz\"],\n",
    "            [\"test_images\",\"train-labels-idx1-ubyte.gz\"],\n",
    "            [\"training_labels\",\"t10k-images-idx3-ubyte.gz\"],\n",
    "            [\"test_labels\",\"t10k-labels-idx1-ubyte.gz\"]\n",
    "            ]\n",
    "def download_fashion_mnist(folder):\n",
    "    base_url = \"http://fashion-mnist.s3-website.eu-central-1.amazonaws.com/\"\n",
    "    for name in filename:\n",
    "        print(\"Downloading \" + name[1] + \"...\")\n",
    "        \n",
    "        # lưu vào folder data_fashion_mnist\n",
    "        request.urlretrieve(base_url + name[1], folder + name[1])\n",
    "    print(\"Download complete.\")\n",
    "# download dataset và lưu vào folder 'data_fashion_mnist/'\n",
    "folder = '../data/data_fashion_mnist/'\n",
    "download_fashion_mnist(folder)"
   ]
  },
  {
   "cell_type": "markdown",
   "metadata": {},
   "source": [
    "Chú ý, các bạn cần tạo thư mục '../data/data_fashion_mnist/' trước khi chạy code trên. Sau khi chạy xong đoạn code trên, chúng ta có 4 file như hình trong trong thư mục được chỉ định."
   ]
  },
  {
   "cell_type": "markdown",
   "metadata": {},
   "source": [
    "<img src=\"https://www.dropbox.com/s/rpr2x3bw3lykvgh/data_fashion_mnist_gz.png?raw=1\">"
   ]
  },
  {
   "cell_type": "markdown",
   "metadata": {},
   "source": [
    "Source code để đọc file .gz và xử lý dữ liệu như sau"
   ]
  },
  {
   "cell_type": "code",
   "execution_count": 23,
   "metadata": {},
   "outputs": [
    {
     "name": "stdout",
     "output_type": "stream",
     "text": [
      "(60000, 784)\n",
      "(60000,)\n",
      "(10000, 784)\n",
      "(10000,)\n"
     ]
    }
   ],
   "source": [
    "import os\n",
    "import gzip\n",
    "import numpy as np\n",
    "def load_fashion_mnist(path, kind='train'):    \n",
    "    \"\"\"Load fashion_MNIST data from `path`\"\"\"\n",
    "    labels_path = os.path.join(path, '%s-labels-idx1-ubyte.gz' % kind)\n",
    "    images_path = os.path.join(path, '%s-images-idx3-ubyte.gz' % kind)\n",
    "    with gzip.open(labels_path, 'rb') as lbpath:\n",
    "        labels = np.frombuffer(lbpath.read(), dtype=np.uint8, offset=8)\n",
    "    with gzip.open(images_path, 'rb') as imgpath:\n",
    "        images = np.frombuffer(imgpath.read(), dtype=np.uint8, offset=16).reshape(len(labels), 784)\n",
    "    return images, labels\n",
    "X_train, y_train = load_fashion_mnist('../data/data_fashion_mnist/')\n",
    "print(X_train.shape)\n",
    "print(y_train.shape)\n",
    "X_test, y_test = load_fashion_mnist('../data/data_fashion_mnist/', kind='t10k')\n",
    "print(X_test.shape)\n",
    "print(y_test.shape)"
   ]
  },
  {
   "cell_type": "markdown",
   "metadata": {},
   "source": [
    "Theo mô tả file dữ liệu, 8 byte đầu của tập label chứa thông tin mô tả về file (metadata) nên chúng ta bỏ qua 8 byte đầu tiên khi đọc file. Tương tự, chúng ta bỏ qua 16 byte đầu tiên khi đọc file cho tập training. Dữ liệu hình được lưu ở dạng vector cho độ dài là 784 thay cho dạng dữ liệu mảng 2D 28x28.\n",
    "\n",
    "Kiểm tra ngẫu nhiên các mẫu training trong tổng số 60.000 mẫu."
   ]
  },
  {
   "cell_type": "code",
   "execution_count": 24,
   "metadata": {},
   "outputs": [
    {
     "data": {
      "text/plain": [
       "<Figure size 900x900 with 100 Axes>"
      ]
     },
     "metadata": {},
     "output_type": "display_data"
    }
   ],
   "source": [
    "import matplotlib.pyplot as plt \n",
    "import numpy as np \n",
    "# Tạo dang sách 100 phần tử ngẫu nhiên từ X_train có 60.000 phần tử\n",
    "indices = list(np.random.randint(X_train.shape[0],size=100))\n",
    "fig =plt.figure(figsize=(9,9))\n",
    "columns = 10\n",
    "rows = 10\n",
    "for i in range(1, columns*rows +1):\n",
    "    img = X_train[indices[i-1]].reshape(28,28)\n",
    "    fig.add_subplot(rows, columns, i)\n",
    "    plt.axis('off')\n",
    "    plt.imshow(img, cmap='gray', vmin=0, vmax=255)\n",
    "plt.show()"
   ]
  },
  {
   "cell_type": "markdown",
   "metadata": {},
   "source": [
    "Một số thuật toán yêu cầu data được chia làm ba phần: training, validation và testing. Chúng ta sẽ chia tập  training (60000 mẫu) thành hai phần nhỏ hơn: tập training (50000 mẫu) và tập validation (10000 mẫu). Code để xử lý việc tạo tập validation như sau"
   ]
  },
  {
   "cell_type": "code",
   "execution_count": 26,
   "metadata": {},
   "outputs": [
    {
     "name": "stdout",
     "output_type": "stream",
     "text": [
      "X_train shape:  (50000, 784)\n",
      "y_train shape:  (50000,)\n",
      "X_val shape:  (10000, 784)\n",
      "y_val shape:  (10000,)\n",
      "X_test shape:  (10000, 784)\n",
      "y_test shape:  (10000,)\n"
     ]
    }
   ],
   "source": [
    "import os\n",
    "import gzip\n",
    "import numpy as np\n",
    "def load_fashion_mnist(path, kind='train'):    \n",
    "    \"\"\"Load fashion_MNIST data from `path`\"\"\"\n",
    "    labels_path = os.path.join(path, '%s-labels-idx1-ubyte.gz' % kind)\n",
    "    images_path = os.path.join(path, '%s-images-idx3-ubyte.gz' % kind)\n",
    "    with gzip.open(labels_path, 'rb') as lbpath:\n",
    "        labels = np.frombuffer(lbpath.read(), dtype=np.uint8, offset=8)\n",
    "    with gzip.open(images_path, 'rb') as imgpath:\n",
    "        images = np.frombuffer(imgpath.read(), dtype=np.uint8, offset=16).reshape(len(labels), 784)\n",
    "    return images, labels\n",
    "X_train, y_train = load_fashion_mnist('../data/data_fashion_mnist/')\n",
    "X_test, y_test = load_fashion_mnist('../data/data_fashion_mnist/', kind='t10k')\n",
    "# lấy số hàng của tập X_traint va X_test\n",
    "m_train = 50000\n",
    "m_test  = 10000\n",
    "m_validation = 10000\n",
    "### validation set\n",
    "# Tạo list gồm 10000 số \n",
    "mask = list(range(m_train, m_train + m_validation)) \n",
    "# Tập con X_val gồm 10000 hình từ X_train\n",
    "X_val = X_train[mask] \n",
    "# Lấy 10000 nhãn từ tập nhãn y_train\n",
    "y_val = y_train[mask] \n",
    "### training set\n",
    "# Tạo list gồm 50000 số từ 0 đến 49999\n",
    "mask = list(range(m_train)) \n",
    "# Tạo lại tập X_train gồm 50000 hình \n",
    "X_train = X_train[mask] \n",
    "# Tạo lại tập nhãn y_train\n",
    "y_train = y_train[mask] \n",
    "# Reshape data to rows\n",
    "X_train = X_train.reshape(m_train, -1)\n",
    "X_val   = X_val.reshape(m_validation, -1)\n",
    "X_test  = X_test.reshape(m_test, -1)\n",
    "print(\"X_train shape: \", X_train.shape)\n",
    "print(\"y_train shape: \", y_train.shape)\n",
    "print(\"X_val shape: \", X_val.shape)\n",
    "print(\"y_val shape: \", y_val.shape)\n",
    "print(\"X_test shape: \", X_test.shape)\n",
    "print(\"y_test shape: \", y_test.shape)"
   ]
  },
  {
   "cell_type": "markdown",
   "metadata": {},
   "source": [
    "Để đảm bảo dữ liệu hình được xử lý đúng, chúng ta sẽ lưu vài mẫu dữ liệu từ tập training như sau"
   ]
  },
  {
   "cell_type": "code",
   "execution_count": 27,
   "metadata": {},
   "outputs": [],
   "source": [
    "from PIL import Image\n",
    "indices = list(np.random.randint(50000,size=5))\n",
    "for i in range(5):\n",
    "    im = Image.fromarray(X_train[indices[i]].reshape(28,28))\n",
    "    im.save(\"../data/data_fashion_mnist/image_\" + str(i) +\".png\")"
   ]
  },
  {
   "cell_type": "markdown",
   "metadata": {},
   "source": [
    "Kiểm tra thư mục lưu hình ta được"
   ]
  },
  {
   "cell_type": "markdown",
   "metadata": {},
   "source": [
    "<img src=\"https://www.dropbox.com/s/z9yas70cxtac1jn/data_mnist_example.png?raw=1\">"
   ]
  },
  {
   "cell_type": "markdown",
   "metadata": {},
   "source": [
    "Vậy là chúng ta đã xử lý cơ bản cho bộ dữ liệu Fashion-MNIST."
   ]
  }
 ],
 "metadata": {
  "kernelspec": {
   "display_name": "Python 3",
   "language": "python",
   "name": "python3"
  },
  "language_info": {
   "codemirror_mode": {
    "name": "ipython",
    "version": 3
   },
   "file_extension": ".py",
   "mimetype": "text/x-python",
   "name": "python",
   "nbconvert_exporter": "python",
   "pygments_lexer": "ipython3",
   "version": "3.7.3"
  }
 },
 "nbformat": 4,
 "nbformat_minor": 2
}
